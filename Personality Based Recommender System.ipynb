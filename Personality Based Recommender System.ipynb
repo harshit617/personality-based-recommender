{
 "cells": [
  {
   "cell_type": "markdown",
   "metadata": {},
   "source": [
    "<img src=\"TwitterData/flow.png\"/>"
   ]
  },
  {
   "cell_type": "markdown",
   "metadata": {
    "colab_type": "text",
    "id": "z0s4JIpel8sA"
   },
   "source": [
    "### Read the input data files."
   ]
  },
  {
   "cell_type": "code",
   "execution_count": 1,
   "metadata": {
    "colab": {
     "autoexec": {
      "startup": false,
      "wait_interval": 0
     }
    },
    "colab_type": "code",
    "id": "Gbh1JMYGl8sB"
   },
   "outputs": [],
   "source": [
    "import numpy as np\n",
    "import os\n",
    "import pandas as pd\n",
    "import matplotlib\n",
    "import matplotlib.pyplot as plt\n",
    "import seaborn as sns\n",
    "import nltk\n",
    "import re\n",
    "import sklearn.metrics.pairwise as sk\n",
    "from textblob import TextBlob\n",
    "#nltk.download()\n",
    "from nltk.corpus import stopwords\n",
    "from sklearn import linear_model\n",
    "from sklearn.model_selection import GridSearchCV\n",
    "from sklearn.feature_extraction.text import CountVectorizer"
   ]
  },
  {
   "cell_type": "code",
   "execution_count": 2,
   "metadata": {
    "colab": {
     "autoexec": {
      "startup": false,
      "wait_interval": 0
     }
    },
    "colab_type": "code",
    "id": "GO3KFJ9fl8sE",
    "outputId": "eff78ff0-b104-4da0-c7d8-c31eb5dd28d6"
   },
   "outputs": [
    {
     "name": "stdout",
     "output_type": "stream",
     "text": [
      "79\n",
      "159\n"
     ]
    }
   ],
   "source": [
    "#Read the tweets one by one and process it\n",
    "import csv\n",
    "user_id=[]\n",
    "inpTweets = csv.reader(open('TwitterData/survey_dump_with_tweet_count', 'rt',encoding='utf8'), delimiter=',')\n",
    "i = 0\n",
    "for row in inpTweets:\n",
    "    i+=1;\n",
    "    if(i>1):\n",
    "        user_id.append(row[0])\n",
    "    if('1663416536' in row):\n",
    "        print(i)\n",
    "\n",
    "print(i);"
   ]
  },
  {
   "cell_type": "markdown",
   "metadata": {
    "colab_type": "text",
    "id": "FW2hL82wl8sJ"
   },
   "source": [
    "### Pre-process Tweets"
   ]
  },
  {
   "cell_type": "code",
   "execution_count": 3,
   "metadata": {
    "colab": {
     "autoexec": {
      "startup": false,
      "wait_interval": 0
     }
    },
    "colab_type": "code",
    "id": "NNwpmlvel8sK"
   },
   "outputs": [],
   "source": [
    "\n",
    "\n",
    "class PreprocessTweets:\n",
    "\n",
    "    def __init__(self):\n",
    "        self.name = 'PreprocessTweets'\n",
    "\n",
    "    #start process_tweet\n",
    "    def processTweet(self, tweet):\n",
    "        \n",
    "        #Convert to lower case\n",
    "        tweet = tweet.lower()\n",
    "        #Convert www.* or https?://* to URL\n",
    "        tweet = re.sub('((www\\.[^\\s]+)|(https?://[^\\s]+))','URL',tweet)\n",
    "        #Convert @username to AT_USER\n",
    "        tweet = re.sub('@[^\\s]+','AT_USER',tweet)\n",
    "        #Remove additional white spaces\n",
    "        tweet = re.sub('[\\s]+', ' ', tweet)\n",
    "        #Replace #word with word\n",
    "        tweet = re.sub(r'#([^\\s]+)', r'\\1', tweet)\n",
    "        #trim\n",
    "        tweet = tweet.strip('\\'\"')\n",
    "        # Remove all Non-ASCII characters\n",
    "        tweet = re.sub(r'[^\\x00-\\x7F]+',' ', tweet)\n",
    "\n",
    "        return tweet"
   ]
  },
  {
   "cell_type": "code",
   "execution_count": 4,
   "metadata": {
    "colab": {
     "autoexec": {
      "startup": false,
      "wait_interval": 0
     }
    },
    "colab_type": "code",
    "id": "CvehIc4el8sN"
   },
   "outputs": [],
   "source": [
    "class FilterStopWords:\n",
    "\n",
    "    # stopWords = []\n",
    "    def __init__(self):\n",
    "        self.name = 'FilterStopWords'\n",
    "        #initialize stopWords\n",
    "        self.stopWords = []\n",
    "\n",
    "\n",
    "    def getStopWordList(self, stopWordListFileName):\n",
    "        #read the stopwords file and build a list\n",
    "        stopWords = []\n",
    "        stopWords.append('AT_USER')\n",
    "        stopWords.append('URL')\n",
    "        stopWords.append('[')\n",
    "        stopWords.append('[')\n",
    "\n",
    "        fp = open(stopWordListFileName, 'r',encoding='utf8')\n",
    "        line = fp.readline()\n",
    "        while line:\n",
    "            word = line.strip()\n",
    "            stopWords.append(word)\n",
    "            line = fp.readline()\n",
    "        fp.close()\n",
    "        return stopWords\n",
    "    \n",
    "    def getFeatureVector(self, tweet, stopWords):\n",
    "        featureVector = []\n",
    "        #split tweet into words\n",
    "        words = tweet.split()\n",
    "        for w in words:\n",
    "            #replace two or more with two occurrences\n",
    "            #w = replaceTwoOrMore(w)\n",
    "            #strip punctuation\n",
    "            w = w.strip('\\'\"?,.')\n",
    "            #check if the word stats with an alphabet\n",
    "            val = re.search(r\"^[a-zA-Z][a-zA-Z0-9]*$\", w)\n",
    "            #ignore if it is a stop word\n",
    "            if(w in self.stopWords or val is None):\n",
    "                continue\n",
    "            else:\n",
    "                featureVector.append(w.lower())\n",
    "        return featureVector"
   ]
  },
  {
   "cell_type": "markdown",
   "metadata": {
    "colab_type": "text",
    "id": "jdqkPePBl8sP"
   },
   "source": [
    "### Feature Engineering "
   ]
  },
  {
   "cell_type": "code",
   "execution_count": 5,
   "metadata": {
    "colab": {
     "autoexec": {
      "startup": false,
      "wait_interval": 0
     }
    },
    "colab_type": "code",
    "id": "QV2Tb7J_l8sS"
   },
   "outputs": [],
   "source": [
    "class FeatureEngineering:\n",
    "\n",
    "    def __init__(self):\n",
    "        self.name = 'FeatureEngineering'\n",
    "        self.featureList = []\n",
    "        # self.sid = SentimentIntensityAnalyzer()\n",
    "\n",
    "    #start extract_features\n",
    "    def extract_features(self,tweet):\n",
    "        tweet_words = set(tweet)\n",
    "        features = {}\n",
    "        for word in self.featureList:\n",
    "            features['contains(%s)' % word] = (word in tweet_words)\n",
    "        return features\n",
    "\n",
    "## Create New Training set based on personality labels predicted from Survey results\n",
    "\n",
    "    def createNewTrainingSet(self, fileName):\n",
    "        XTrain = []\n",
    "        YTrain = []\n",
    "        XTrainFeatures = []\n",
    "        XTrainSentiment = []\n",
    "        XTrainFreqTweets = []\n",
    "        geo_latitude = []\n",
    "        geo_longitude = []\n",
    "        \n",
    "        objFilterStopWords = FilterStopWords()\n",
    "        objPreprocessTweets = PreprocessTweets()\n",
    "\n",
    "        stopWords = objFilterStopWords.getStopWordList('TwitterData/StopWords.txt')\n",
    "        \n",
    "        #Read the tweets one by one and process it\n",
    "        inpTweets = csv.reader(open(fileName, 'r',encoding='utf8'), delimiter=',')\n",
    "        next(inpTweets)\n",
    "        tweets = []\n",
    "        i = 0\n",
    "        for row in inpTweets:\n",
    "            personality = row[5]\n",
    "            tweet = row[1]\n",
    "            cleanTweet = tweet.replace('\"\",\"\"',\" \")\n",
    "            cleanTweet = cleanTweet.replace('\"\"',\" \")\n",
    "            processedTweet = objPreprocessTweets.processTweet(cleanTweet)\n",
    "\n",
    "            XTrainFreqTweets.append(int(row[4]))\n",
    "            wordsList = processedTweet.split()\n",
    "            \n",
    "            # Remove stop words\n",
    "            filtered_words = [word for word in wordsList if word not in stopwords.words('english')]\n",
    "            filteredTweets = ' '.join(filtered_words)\n",
    "            \n",
    "            featureVector = objFilterStopWords.getFeatureVector(processedTweet, stopWords)\n",
    "            \n",
    "            geo_latitude.append(float(row[2]))\n",
    "            geo_longitude.append(float(row[3]))\n",
    "            \n",
    "            blob = TextBlob(processedTweet)\n",
    "            sentiment = 0\n",
    "            for sentence in blob.sentences:\n",
    "                sentiment += sentence.sentiment.polarity\n",
    "\n",
    "            totSentiment = sentiment/ len(blob.sentences)\n",
    "\n",
    "            XTrainSentiment.append(totSentiment)\n",
    "\n",
    "            XTrainFeatures.append(filteredTweets)\n",
    "            \n",
    "            YTrain.append(personality)       \n",
    "\n",
    "        return XTrain, YTrain, XTrainFeatures, XTrainSentiment, XTrainFreqTweets, geo_latitude, geo_longitude\n"
   ]
  },
  {
   "cell_type": "code",
   "execution_count": 6,
   "metadata": {
    "colab": {
     "autoexec": {
      "startup": false,
      "wait_interval": 0
     }
    },
    "colab_type": "code",
    "id": "-JYbu2ial8sU"
   },
   "outputs": [],
   "source": [
    "objFeatureEngineering = FeatureEngineering()\n",
    "fileName = 'TwitterData/survey_dump_with_tweet_count'\n",
    "XTrain, YTrain, XTrainFeatures, XTrainSentiment, XTrainFreqTweets, geo_latitude, geo_longitude = objFeatureEngineering.createNewTrainingSet(fileName)"
   ]
  },
  {
   "cell_type": "markdown",
   "metadata": {
    "colab_type": "text",
    "id": "NwIlCYDrl8si"
   },
   "source": [
    "### Get Feature vector"
   ]
  },
  {
   "cell_type": "code",
   "execution_count": 7,
   "metadata": {
    "colab": {
     "autoexec": {
      "startup": false,
      "wait_interval": 0
     }
    },
    "colab_type": "code",
    "id": "dkyE9qeml8sl"
   },
   "outputs": [],
   "source": [
    "newYTrain = []\n",
    "\n",
    "for item in YTrain:\n",
    "    temp = item.replace('[', '')\n",
    "    temp = temp.replace('\\\"', '')\n",
    "    newItem = temp.replace(']', '')\n",
    "    newYTrain.append(newItem)\n",
    "    \n",
    "YTrain = newYTrain"
   ]
  },
  {
   "cell_type": "markdown",
   "metadata": {
    "colab_type": "text",
    "id": "B-AyAxLMl8sp"
   },
   "source": [
    "### Map the class labels to numbers"
   ]
  },
  {
   "cell_type": "code",
   "execution_count": 8,
   "metadata": {
    "colab": {
     "autoexec": {
      "startup": false,
      "wait_interval": 0
     }
    },
    "colab_type": "code",
    "id": "VCXCmHgil8sq"
   },
   "outputs": [],
   "source": [
    "def mapLabels(className):\n",
    "    if className == 'Conscientiousness':\n",
    "        return 0\n",
    "    elif className == 'Extrovert':\n",
    "        return 1\n",
    "    elif className == 'Agreeable':\n",
    "        return 2\n",
    "    elif className == 'Empathetic':\n",
    "        return 3\n",
    "    elif className == 'Novelty Seeking':\n",
    "        return 4\n",
    "    elif className == 'Perfectionist':\n",
    "        return 5\n",
    "    elif className == 'Rigid':\n",
    "        return 6\n",
    "    elif className == 'Impulsive':\n",
    "        return 7\n",
    "    elif className == 'Psychopath':\n",
    "        return 8\n",
    "    elif className == 'Obsessive':\n",
    "        return 9\n",
    "    #elif className == None:\n",
    "        #return 10\n",
    "    else:\n",
    "        pass\n",
    "\n",
    "YTrain = [mapLabels(x) for x in YTrain]"
   ]
  },
  {
   "cell_type": "code",
   "execution_count": 9,
   "metadata": {
    "colab": {
     "autoexec": {
      "startup": false,
      "wait_interval": 0
     }
    },
    "colab_type": "code",
    "id": "K-r1So9Fl8sv",
    "outputId": "1d46b509-f994-434e-e91a-891c448a205d"
   },
   "outputs": [],
   "source": [
    "XTrain = np.array(XTrainFeatures)\n",
    "YTrain = np.array(YTrain)"
   ]
  },
  {
   "cell_type": "code",
   "execution_count": 10,
   "metadata": {},
   "outputs": [
    {
     "data": {
      "text/plain": [
       "array([7, 8, 6, 4, 9, 7, 9, 6, 1, 6, 7, 2, 4, 2, 2, 7, 9, 7, 9, 7, 8, 6,\n",
       "       9, 4, 8, 9, 1, 3, 9, 9, 8, 7, 7, 9, 9, 1, 1, 1, 8, 9, 7, 8, 1, 6,\n",
       "       8, 5, 8, 6, 3, 1, 4, 9, 3, 9, 7, 7, 9, 9, 3, 7, 3, 9, 4, 8, 7, 1,\n",
       "       9, 9, 1, 9, 1, 3, 3, 2, 3, 1, 1, 0, 4, 7, 8, 6, 4, 9, 7, 9, 6, 1,\n",
       "       6, 7, 2, 4, 2, 2, 7, 9, 7, 9, 7, 8, 6, 9, 4, 8, 9, 1, 3, 9, 9, 8,\n",
       "       7, 7, 9, 9, 1, 1, 1, 8, 9, 7, 8, 1, 6, 8, 5, 8, 6, 3, 1, 4, 9, 3,\n",
       "       9, 7, 7, 9, 9, 3, 7, 3, 9, 4, 8, 7, 1, 9, 9, 1, 9, 1, 3, 3, 2, 3,\n",
       "       1, 1, 0, 4])"
      ]
     },
     "execution_count": 10,
     "metadata": {},
     "output_type": "execute_result"
    }
   ],
   "source": [
    "YTrain"
   ]
  },
  {
   "cell_type": "markdown",
   "metadata": {
    "colab_type": "text",
    "id": "KzAk6sADl8sy"
   },
   "source": [
    "### Split Train and Test data"
   ]
  },
  {
   "cell_type": "code",
   "execution_count": 11,
   "metadata": {
    "colab": {
     "autoexec": {
      "startup": false,
      "wait_interval": 0
     }
    },
    "colab_type": "code",
    "id": "m8BT_RnZl8s0",
    "outputId": "f682b2bb-2003-4157-e199-b0bf4dc9644a"
   },
   "outputs": [],
   "source": [
    "n=60\n",
    "trainSamples = XTrain[0:n]\n",
    "YtrainSamples = YTrain[0:n]\n",
    "\n",
    "testSamples = XTrain[n:]\n",
    "YtestSamples = YTrain[n:]\n",
    "\n",
    "trainSentimentSamples = np.array(XTrainSentiment[0:n])\n",
    "testSentimentSamples = np.array(XTrainSentiment[n:])\n",
    "trainFreqTweetSamples = np.array(XTrainFreqTweets[0:n])\n",
    "testFreqTweetSamples = np.array(XTrainFreqTweets[n:])"
   ]
  },
  {
   "cell_type": "markdown",
   "metadata": {
    "colab_type": "text",
    "id": "EtniRnE5l8s2"
   },
   "source": [
    "### Bag of Words as Features"
   ]
  },
  {
   "cell_type": "code",
   "execution_count": 12,
   "metadata": {
    "colab": {
     "autoexec": {
      "startup": false,
      "wait_interval": 0
     }
    },
    "colab_type": "code",
    "id": "bnuzEgeDl8s2",
    "outputId": "8a8e623c-830d-4699-ed17-4311d2884496"
   },
   "outputs": [],
   "source": [
    "\n",
    "vectorizer = CountVectorizer()\n",
    "XTr = vectorizer.fit_transform(trainSamples)\n",
    "\n",
    "trainBagVector = XTr.toarray()\n",
    "XTe = vectorizer.transform(testSamples)\n",
    "testBagVector = XTe.toarray()"
   ]
  },
  {
   "cell_type": "code",
   "execution_count": 13,
   "metadata": {
    "colab": {
     "autoexec": {
      "startup": false,
      "wait_interval": 0
     }
    },
    "colab_type": "code",
    "id": "3Qry68AZl8s9"
   },
   "outputs": [],
   "source": [
    "XEv = XTe"
   ]
  },
  {
   "cell_type": "markdown",
   "metadata": {
    "colab_type": "text",
    "id": "IlWAkodOl8tb"
   },
   "source": [
    "### Stack or concatenate all features together"
   ]
  },
  {
   "cell_type": "code",
   "execution_count": 14,
   "metadata": {
    "colab": {
     "autoexec": {
      "startup": false,
      "wait_interval": 0
     }
    },
    "colab_type": "code",
    "id": "bm9h-y3ul8tc",
    "outputId": "e3e22f64-6be4-4121-93ad-073e97c8acf7"
   },
   "outputs": [],
   "source": [
    "XTrainWordFeatures = trainBagVector #trainNGramVector\n",
    "\n",
    "temp = np.column_stack((XTrainWordFeatures, trainSentimentSamples))\n",
    "\n",
    "XTrainAllFeatures =  np.column_stack((temp, trainFreqTweetSamples))\n",
    "\n",
    "XTestWordFeatures = testBagVector #testNGramVector\n",
    "temp =  np.column_stack((XTestWordFeatures, testSentimentSamples))\n",
    "\n",
    "XTestAllFeatures =  np.column_stack((temp, testFreqTweetSamples))"
   ]
  },
  {
   "cell_type": "markdown",
   "metadata": {
    "colab_type": "text",
    "id": "JdqHbq9zl8ti"
   },
   "source": [
    "### Write Predicted Output Labels to File"
   ]
  },
  {
   "cell_type": "code",
   "execution_count": 15,
   "metadata": {
    "colab": {
     "autoexec": {
      "startup": false,
      "wait_interval": 0
     }
    },
    "colab_type": "code",
    "id": "hHucWncol8ti"
   },
   "outputs": [],
   "source": [
    "def writePredictedLabelFile(YPred):\n",
    "    f = open(\"Predictions.csv\",\"w\")\n",
    "    f.write(\"Id,Label\" + \"\\n\")\n",
    "    for i in range(len(YPred)):\n",
    "        f.write(str(i) + \",\" + str(np.around(YPred[i],decimals=2))+ \"\\n\")\n",
    "    f.close()"
   ]
  },
  {
   "cell_type": "code",
   "execution_count": 16,
   "metadata": {
    "colab": {
     "autoexec": {
      "startup": false,
      "wait_interval": 0
     }
    },
    "colab_type": "code",
    "id": "4LE18q6Al8uT",
    "outputId": "d47657c6-eeab-4c2e-fb4f-88d632cbcfc4"
   },
   "outputs": [],
   "source": [
    "train = XTrainAllFeatures\n",
    "\n",
    "YTrain = YtrainSamples\n",
    "YTest = YtestSamples"
   ]
  },
  {
   "cell_type": "code",
   "execution_count": 17,
   "metadata": {
    "colab": {
     "autoexec": {
      "startup": false,
      "wait_interval": 0
     }
    },
    "colab_type": "code",
    "id": "3NkxQNs1l8ug"
   },
   "outputs": [],
   "source": [
    "from sklearn.neighbors import KNeighborsClassifier\n",
    "\n",
    "train = XTrainAllFeatures\n",
    "test = XTestAllFeatures\n",
    "\n",
    "params = {'neighbours':10}\n",
    "neighbours = params['neighbours']\n",
    "neigh = KNeighborsClassifier(n_neighbors=neighbours)\n",
    "YPredKNN = neigh.fit(train, YTrain).predict(test)"
   ]
  },
  {
   "cell_type": "code",
   "execution_count": 18,
   "metadata": {},
   "outputs": [],
   "source": [
    "from sklearn.ensemble import RandomForestClassifier\n",
    "params = {'trees':150, 'criterion':'entropy','random_state':None}\n",
    "trees = params['trees']\n",
    "crit = params['criterion']\n",
    "seed = params['random_state']\n",
    "clf = RandomForestClassifier(n_estimators=trees,criterion=crit,random_state=seed)\n",
    "clf.fit(train, YTrain)\n",
    "YPredRF = clf.predict(test)"
   ]
  },
  {
   "cell_type": "code",
   "execution_count": 19,
   "metadata": {},
   "outputs": [
    {
     "name": "stderr",
     "output_type": "stream",
     "text": [
      "/Library/Frameworks/Python.framework/Versions/3.6/lib/python3.6/site-packages/sklearn/model_selection/_split.py:605: Warning: The least populated class in y has only 1 members, which is too few. The minimum number of members in any class cannot be less than n_splits=3.\n",
      "  % (min_groups, self.n_splits)), Warning)\n"
     ]
    }
   ],
   "source": [
    "#LogReg = linear_model.LogisticRegression(solver = 'sag', multi_class = 'multinomial',penalty='l2', dual=False, tol=0.0001, C=1.0, fit_intercept=True, intercept_scaling=1, class_weight=None, random_state=None)\n",
    "LogReg = linear_model.LogisticRegression()\n",
    "penalty = ['l1', 'l2']\n",
    "C = np.logspace(0, 4, 9)\n",
    "hyperparameters = dict(C=C, penalty=penalty)\n",
    "clf = GridSearchCV(LogReg, hyperparameters)\n",
    "\n",
    "clf.fit(train, YTrain)\n",
    "YPredLR = clf.predict(test)"
   ]
  },
  {
   "cell_type": "code",
   "execution_count": 20,
   "metadata": {
    "colab": {
     "autoexec": {
      "startup": false,
      "wait_interval": 0
     }
    },
    "colab_type": "code",
    "id": "XSLTiAorl8un"
   },
   "outputs": [],
   "source": [
    "from sklearn import svm\n",
    "\n",
    "params = {'kernel':'linear'}\n",
    "ker = params['kernel']\n",
    "YPred = svm.SVC(kernel=ker, probability = True).fit(train, YTrain).decision_function(test)"
   ]
  },
  {
   "cell_type": "code",
   "execution_count": 21,
   "metadata": {},
   "outputs": [
    {
     "data": {
      "text/plain": [
       "array([[ 4.01325429,  0.77695734,  6.0674865 ,  3.9835654 , -0.23168918,\n",
       "         2.93236488,  3.01232   ,  7.13202333,  8.31371744],\n",
       "       [ 6.13183706,  0.81675151,  5.07833974,  4.00053952, -0.22092221,\n",
       "         2.87367556,  1.89559125,  7.14419787,  8.27998969],\n",
       "       [ 2.96837984,  0.93486432,  2.97518037,  5.05897008, -0.23217375,\n",
       "         2.97211292,  8.18894642,  7.08716709,  6.04655271],\n",
       "       [ 6.06135166,  0.93795652,  1.84320315,  6.1379051 , -0.16716529,\n",
       "         6.11152866,  5.01676441,  5.03175719,  5.0266986 ],\n",
       "       [ 5.06056447,  0.91616568,  1.88575319,  6.1055872 , -0.19223839,\n",
       "         7.09898615,  6.05554698,  2.99199941,  6.07763531],\n",
       "       [ 0.93290096,  1.95745194,  3.98193766,  5.03361923, -0.24636243,\n",
       "         2.97232943,  8.2152489 ,  7.12291546,  6.02995885],\n",
       "       [ 2.85463119,  0.80819865,  8.25173422,  3.98916399, -0.26995757,\n",
       "         1.75828179,  7.28613325,  5.17982759,  6.14198691],\n",
       "       [ 4.01550446,  0.71668019,  7.20958491,  4.05302676, -0.23817679,\n",
       "         1.8241974 ,  4.9974448 ,  5.08884054,  8.33289773],\n",
       "       [ 4.03076599,  0.8551162 ,  1.92346097,  5.06413006, -0.22489003,\n",
       "         3.01731669,  8.10840158,  6.08584281,  7.13985572],\n",
       "       [ 4.06789744,  0.63762921,  8.5       ,  6.2191065 , -0.25239867,\n",
       "         1.7093563 ,  2.78794143,  7.32446481,  5.00600298],\n",
       "       [ 8.07999037,  0.92767464,  1.86036279,  6.12085879, -0.17843115,\n",
       "         6.09846735,  4.03367288,  5.01224078,  4.04516354],\n",
       "       [ 5.05912763,  0.91208961,  1.89420425,  6.11714966, -0.1763432 ,\n",
       "         7.09432137,  4.02350578,  5.01666564,  6.05927926],\n",
       "       [ 4.052758  ,  0.90660055,  1.89788746,  7.12409569, -0.18885242,\n",
       "         7.09901183,  5.03325277,  3.0013407 ,  7.07390541],\n",
       "       [ 7.07825183,  0.9128016 ,  1.85094092,  6.12156527, -0.17238293,\n",
       "         6.11038902,  5.03427192,  5.0246012 ,  4.03956117],\n",
       "       [ 7.07129992,  0.91948695,  1.87312106,  6.11041203, -0.18203166,\n",
       "         8.11404404,  5.03295367,  3.00535318,  4.05536082],\n",
       "       [ 7.11085562,  0.85422187,  2.95621265,  5.05230176, -0.18930928,\n",
       "         8.14565423,  2.99292417,  2.99849503,  6.07864396],\n",
       "       [ 6.07044062,  0.92399476,  1.87534993,  6.11148532, -0.18759937,\n",
       "         7.09037117,  4.03841659,  2.9933774 ,  7.08416359],\n",
       "       [ 6.06793154,  0.9130689 ,  1.86920649,  6.11848678, -0.18543595,\n",
       "         7.10361993,  4.03699535,  2.99799926,  7.07812769],\n",
       "       [ 5.0655678 ,  0.9155205 ,  1.8803662 ,  6.10948417, -0.1873156 ,\n",
       "         7.09786365,  5.03792331,  2.99354374,  7.08704623],\n",
       "       [ 2.96256414,  0.94813136,  1.93781782,  5.0131892 , -0.21124478,\n",
       "         7.07428356,  8.2297377 ,  3.99329738,  6.05222361],\n",
       "       [ 4.01555433,  0.87024623,  4.99759911,  5.02597031, -0.2138964 ,\n",
       "         1.97538787,  3.99799243,  8.22972697,  7.10141916],\n",
       "       [ 0.90234484,  5.0562677 ,  1.9589764 ,  2.96575319, -0.23497568,\n",
       "         8.23154762,  7.11352898,  3.96912687,  6.03743007],\n",
       "       [ 3.99365117,  0.89742006,  1.9577586 ,  8.22972078, -0.21416551,\n",
       "         5.0365625 ,  7.05777808,  2.99393194,  6.04734238],\n",
       "       [ 1.92725528,  6.05394781,  0.92779015,  5.02160575, -0.23280278,\n",
       "         2.97208632,  7.11331419,  3.9869243 ,  8.22987898],\n",
       "       [ 1.98333841,  3.99956374,  0.88363079,  5.02067882, -0.21193004,\n",
       "         6.05054314,  8.22971992,  2.98954189,  7.05491333],\n",
       "       [ 5.05227246,  0.84082121,  2.98429169,  4.00993402, -0.21174309,\n",
       "         1.96972169,  7.05732199,  6.06764723,  8.2297328 ],\n",
       "       [ 6.05278991,  0.90558191,  1.94631275,  6.05635326, -0.20649819,\n",
       "         8.22972023,  4.00336905,  2.97546213,  6.03690893],\n",
       "       [ 8.22977894,  0.90653406,  1.86883199,  5.08500072, -0.17703706,\n",
       "         6.13890537,  2.92682877,  3.93998963,  7.08116758],\n",
       "       [ 7.06138309,  0.90156902,  1.90926298,  6.05337154, -0.18147697,\n",
       "         8.22972504,  5.02788559,  2.96416909,  4.03411062],\n",
       "       [ 5.03255177,  0.87061677,  6.02564306,  3.01030634, -0.23391247,\n",
       "         1.98131446,  8.23056337,  5.03725898,  6.04565773],\n",
       "       [ 1.87560729,  8.22975051,  5.03793076,  2.99026836, -0.25405889,\n",
       "         0.78245663,  7.25702939,  4.01850968,  6.06250628],\n",
       "       [ 2.99170214,  0.85822743,  3.99668128,  8.22974939, -0.21093193,\n",
       "         1.97765987,  5.01168045,  6.06134933,  7.08388204],\n",
       "       [ 0.88809115,  8.22970007,  2.97855386,  4.00531191, -0.24612145,\n",
       "         1.94155232,  7.12617366,  5.0408908 ,  6.03584768],\n",
       "       [ 5.02141934,  8.22973986,  0.81403238,  4.05957747, -0.18731533,\n",
       "         6.10000885,  2.95964198,  1.90621426,  7.0966812 ],\n",
       "       [ 2.97990371,  0.94150483,  1.97678976,  7.02759468, -0.22893624,\n",
       "         6.03478881,  8.23135349,  4.0113527 ,  5.02564826],\n",
       "       [ 7.19530398,  0.84022964,  1.90724907,  3.94735659, -0.21506332,\n",
       "         4.9838403 ,  2.95856541,  6.09976984,  8.28274849],\n",
       "       [ 4.00857393,  0.91815612,  2.96848295,  5.01638999, -0.22621427,\n",
       "         1.94272968,  8.23020576,  6.07151199,  7.07016385],\n",
       "       [ 1.9218561 ,  7.10046425,  0.91418447,  5.03325228, -0.22140536,\n",
       "         4.02827596,  6.06029189,  2.93335297,  8.22972746],\n",
       "       [ 0.90697122,  2.94388235,  5.01906169,  4.02888587, -0.24965128,\n",
       "         1.90103886,  8.25952869,  7.11441549,  6.07586712],\n",
       "       [ 2.9477763 ,  0.93901129,  2.97525057,  5.00727771, -0.22818164,\n",
       "         2.96246323,  7.16278842,  8.22974823,  6.00386588],\n",
       "       [ 6.05013828,  4.00629287,  0.88178287,  5.01638702, -0.20715718,\n",
       "         8.22970351,  7.07290053,  2.98097143,  1.96898067],\n",
       "       [ 0.88774566,  2.93422819,  5.01739815,  4.03921656, -0.25421175,\n",
       "         1.87717063,  7.18967392,  6.07868587,  8.23009277],\n",
       "       [ 1.9533127 ,  3.98766373,  0.9293067 ,  8.22972182, -0.22148349,\n",
       "         5.04296545,  6.06197196,  2.95977375,  7.05676739],\n",
       "       [ 2.96875234,  0.91314755,  1.93024005,  5.02888604, -0.23248428,\n",
       "         4.00065728,  7.13514297,  8.22974702,  6.02591105],\n",
       "       [ 3.96879543,  0.71694324,  7.21774074,  2.97892645, -0.24377956,\n",
       "         1.86137871,  6.07655743,  5.13554449,  8.28789306],\n",
       "       [ 8.22972604,  0.9180929 ,  2.98544603,  6.06569082, -0.20479733,\n",
       "         7.06656682,  5.01291937,  1.93854896,  3.98780637],\n",
       "       [ 5.03555565,  0.83673518,  8.23083077,  2.9883834 , -0.23894681,\n",
       "         1.97735065,  5.03944134,  5.02697497,  7.10367484],\n",
       "       [ 7.22843119,  0.84412087,  1.9240325 ,  3.94556068, -0.20903302,\n",
       "         5.03029599,  2.86325376,  6.03483743,  8.3385006 ],\n",
       "       [ 7.07272659,  0.8942448 ,  1.92692462,  5.03406086, -0.20211783,\n",
       "         6.01884281,  4.02250131,  3.00306533,  8.22975151],\n",
       "       [ 4.99753084,  0.92581243,  1.91258153,  5.06017789, -0.19779774,\n",
       "         7.10412076,  3.97326772,  8.22971277,  3.99459381],\n",
       "       [ 3.00315981,  0.90807991,  1.91518717,  5.04168146, -0.2181396 ,\n",
       "         4.01678447,  8.22970215,  7.05494294,  6.0486017 ],\n",
       "       [ 5.02318671,  0.85632294,  4.02282823,  2.99060851, -0.2323331 ,\n",
       "         1.96016729,  8.22986434,  7.11423355,  6.03512154],\n",
       "       [ 5.07531001,  0.79865465,  5.04255051,  5.08331315, -0.23404083,\n",
       "         1.87572801,  3.00188019,  7.10763435,  8.24896995],\n",
       "       [ 6.08353077,  0.89410044,  1.89659083,  5.05580232, -0.18282435,\n",
       "         7.14154199,  3.96174551,  2.91982764,  8.22968487],\n",
       "       [ 8.24942033,  0.85193797,  3.94919328,  4.97065239, -0.20936537,\n",
       "         2.86653619,  1.91138501,  6.07495012,  7.33529008],\n",
       "       [ 8.22974607,  1.93268487,  3.96825248,  2.96230995, -0.25958721,\n",
       "         0.88366822,  7.19893776,  5.04931333,  6.03467452],\n",
       "       [ 8.22970862,  0.86697223,  2.96342302,  1.95018602, -0.23903721,\n",
       "         4.00323847,  7.15054879,  5.0393572 ,  6.03560286],\n",
       "       [ 1.94995971,  0.92778471,  3.96859202,  5.01674704, -0.22723844,\n",
       "         2.96370765,  7.10903103,  8.22973658,  6.0616797 ],\n",
       "       [ 0.91704456,  1.95075667,  3.97912758,  5.01689837, -0.23675584,\n",
       "         2.96526338,  7.11930338,  6.05858197,  8.22977993],\n",
       "       [ 1.93740229,  0.89895537,  3.98529052,  5.04397211, -0.23967441,\n",
       "         2.97378028,  8.24437033,  7.09362287,  6.06228065],\n",
       "       [ 6.09493163,  0.86486851,  3.96691553,  1.94974901, -0.22358554,\n",
       "         2.97583587,  7.11695596,  8.23025116,  5.02407788],\n",
       "       [ 8.22982154,  0.85680822,  3.99265287,  1.95251354, -0.23026874,\n",
       "         5.05114981,  7.13061498,  6.04407659,  2.97263117],\n",
       "       [ 4.02088882,  0.86676585,  1.98191103,  5.0217889 , -0.22907674,\n",
       "         8.23131661,  7.09283312,  4.00164821,  5.01192421],\n",
       "       [ 2.92541323,  1.94676687,  2.94236687,  5.02707038, -0.23667896,\n",
       "         1.94211388,  7.18707575,  8.23074779,  6.03512419],\n",
       "       [ 4.00424591, -0.12861516,  0.80243553,  5.05806309,  8.22975485,\n",
       "         7.09138818,  4.99215858,  1.95386365,  3.99670537],\n",
       "       [ 7.15986553,  0.83743447,  3.98096649,  1.90698827, -0.21005025,\n",
       "         3.99332945,  3.96166638,  8.23018227,  6.13961739],\n",
       "       [ 2.99985221,  0.91547067,  1.91187001,  5.0207749 , -0.21434561,\n",
       "         8.2297379 ,  7.08277082,  4.00780964,  6.04605947],\n",
       "       [ 1.89544384,  1.90474096,  8.23562252,  4.03743948, -0.26166649,\n",
       "         1.889119  ,  7.15299307,  5.06348172,  6.08282589],\n",
       "       [ 8.22979002,  0.90601172,  1.86848369,  6.0866819 , -0.1775418 ,\n",
       "         7.14742048,  2.95238448,  4.98975941,  3.99701008],\n",
       "       [ 1.94735003,  0.93765741,  3.98288416,  8.23184213, -0.23003199,\n",
       "         2.96074296,  7.11948491,  5.01375484,  6.03631555],\n",
       "       [ 6.13542849,  0.80971715,  7.10030098,  4.99583152, -0.1927491 ,\n",
       "         2.9668263 ,  1.83717039,  4.05548246,  8.2919918 ],\n",
       "       [ 4.04302238,  0.78725369,  8.22970493,  5.06399801, -0.2216082 ,\n",
       "         2.93532871,  2.95125679,  5.04125664,  7.16978704],\n",
       "       [ 7.11736976,  0.85495255,  1.94812607,  5.0201548 , -0.21364284,\n",
       "         6.03466834,  4.01065985,  2.99654563,  8.23116583],\n",
       "       [ 1.93800375,  0.94529471,  4.0135391 ,  6.05376957, -0.24583445,\n",
       "         2.94220314,  8.24300054,  6.06665761,  6.04336604],\n",
       "       [ 2.99628581,  0.91787979,  1.96136839,  6.03073347, -0.22322744,\n",
       "         5.01669631,  8.23015516,  7.04856931,  4.02153919],\n",
       "       [ 5.0790594 ,  0.87629892,  7.09306705,  5.06819533, -0.23573574,\n",
       "         2.94758559,  1.86886734,  5.04039303,  8.26226906],\n",
       "       [ 7.08965619,  0.88446323,  1.96071185,  5.02846202, -0.208225  ,\n",
       "         6.03196774,  3.97715969,  3.00563176,  8.23017252],\n",
       "       [ 1.96350606,  0.92360191,  8.2297504 ,  6.03568934, -0.21978892,\n",
       "         4.01353576,  7.08573534,  2.9706787 ,  4.99729141],\n",
       "       [ 1.95772943,  0.91303619,  2.98274524,  5.0335037 , -0.23095637,\n",
       "         4.0086643 ,  8.23161809,  7.05669306,  6.04696637],\n",
       "       [ 4.01325429,  0.77695734,  6.0674865 ,  3.9835654 , -0.23168918,\n",
       "         2.93236488,  3.01232   ,  7.13202333,  8.31371744],\n",
       "       [ 6.13183706,  0.81675151,  5.07833974,  4.00053952, -0.22092221,\n",
       "         2.87367556,  1.89559125,  7.14419787,  8.27998969],\n",
       "       [ 2.96837984,  0.93486432,  2.97518037,  5.05897008, -0.23217375,\n",
       "         2.97211292,  8.18894642,  7.08716709,  6.04655271],\n",
       "       [ 6.06135166,  0.93795652,  1.84320315,  6.1379051 , -0.16716529,\n",
       "         6.11152866,  5.01676441,  5.03175719,  5.0266986 ],\n",
       "       [ 5.06056447,  0.91616568,  1.88575319,  6.1055872 , -0.19223839,\n",
       "         7.09898615,  6.05554698,  2.99199941,  6.07763531],\n",
       "       [ 0.93290096,  1.95745194,  3.98193766,  5.03361923, -0.24636243,\n",
       "         2.97232943,  8.2152489 ,  7.12291546,  6.02995885],\n",
       "       [ 2.85463119,  0.80819865,  8.25173422,  3.98916399, -0.26995757,\n",
       "         1.75828179,  7.28613325,  5.17982759,  6.14198691],\n",
       "       [ 4.01550446,  0.71668019,  7.20958491,  4.05302676, -0.23817679,\n",
       "         1.8241974 ,  4.9974448 ,  5.08884054,  8.33289773],\n",
       "       [ 4.03076599,  0.8551162 ,  1.92346097,  5.06413006, -0.22489003,\n",
       "         3.01731669,  8.10840158,  6.08584281,  7.13985572],\n",
       "       [ 4.06789744,  0.63762921,  8.5       ,  6.2191065 , -0.25239867,\n",
       "         1.7093563 ,  2.78794143,  7.32446481,  5.00600298],\n",
       "       [ 8.07999037,  0.92767464,  1.86036279,  6.12085879, -0.17843115,\n",
       "         6.09846735,  4.03367288,  5.01224078,  4.04516354],\n",
       "       [ 5.05912763,  0.91208961,  1.89420425,  6.11714966, -0.1763432 ,\n",
       "         7.09432137,  4.02350578,  5.01666564,  6.05927926],\n",
       "       [ 4.052758  ,  0.90660055,  1.89788746,  7.12409569, -0.18885242,\n",
       "         7.09901183,  5.03325277,  3.0013407 ,  7.07390541],\n",
       "       [ 7.07825183,  0.9128016 ,  1.85094092,  6.12156527, -0.17238293,\n",
       "         6.11038902,  5.03427192,  5.0246012 ,  4.03956117],\n",
       "       [ 7.07129992,  0.91948695,  1.87312106,  6.11041203, -0.18203166,\n",
       "         8.11404404,  5.03295367,  3.00535318,  4.05536082],\n",
       "       [ 7.11085562,  0.85422187,  2.95621265,  5.05230176, -0.18930928,\n",
       "         8.14565423,  2.99292417,  2.99849503,  6.07864396],\n",
       "       [ 6.07044062,  0.92399476,  1.87534993,  6.11148532, -0.18759937,\n",
       "         7.09037117,  4.03841659,  2.9933774 ,  7.08416359],\n",
       "       [ 6.06793154,  0.9130689 ,  1.86920649,  6.11848678, -0.18543595,\n",
       "         7.10361993,  4.03699535,  2.99799926,  7.07812769],\n",
       "       [ 5.0655678 ,  0.9155205 ,  1.8803662 ,  6.10948417, -0.1873156 ,\n",
       "         7.09786365,  5.03792331,  2.99354374,  7.08704623]])"
      ]
     },
     "execution_count": 21,
     "metadata": {},
     "output_type": "execute_result"
    }
   ],
   "source": [
    "YPred  # [7, 8, 6, 4, 9, 7, 9, 6, 1, 6, 7, 2, 4, 2, 2, 7, 9, 7, 9, 7, 8, 6,\n",
    "#9, 4, 8, 9, 1, 3, 9, 9, 8, 7, 7, 9, 9, 1, 1, 1, 8, 9, 7, 8, 1, 6,\n",
    " #      8, 5, 8, 6, 3, 1, 4, 9, 3, 9, 7, 7, 9, 9, 3, 7, 3, 9, 4, 8, 7, 1,\n",
    "  #     9, 9, 1, 9, 1, 3, 3, 2, 3, 1, 1, 0, 4, 7, 8, 6, 4, 9, 7, 9, 6, 1,\n",
    "   #    6, 7, 2, 4, 2, 2, 7, 9, 7, 9, 7, 8, 6, 9, 4, 8, 9, 1, 3, 9, 9, 8,\n",
    "    #   7, 7, 9,9,\n",
    "     #  1, 1, 1, 8, 9, 7, 8, 1, 6, 8,5, 8,\n",
    "      # 6, 3, 1, 4, 9, 3, 9, 7, 7, 9, 9, 3, 7, 3, 9, 4, 8, 7, 1, 9, 9, 1, \n",
    "       #9, 1, 3, 3, 2, 3, 1, 1, 0, 4]'''"
   ]
  },
  {
   "cell_type": "code",
   "execution_count": 22,
   "metadata": {},
   "outputs": [],
   "source": [
    "dfYPred=YPred"
   ]
  },
  {
   "cell_type": "code",
   "execution_count": 23,
   "metadata": {},
   "outputs": [],
   "source": [
    "df=pd.DataFrame(data=dfYPred)"
   ]
  },
  {
   "cell_type": "code",
   "execution_count": 24,
   "metadata": {},
   "outputs": [
    {
     "data": {
      "text/plain": [
       "array([[ 4.01325429,  0.77695734,  6.0674865 ,  3.9835654 , -0.23168918,\n",
       "         2.93236488,  3.01232   ,  7.13202333,  8.31371744],\n",
       "       [ 6.13183706,  0.81675151,  5.07833974,  4.00053952, -0.22092221,\n",
       "         2.87367556,  1.89559125,  7.14419787,  8.27998969],\n",
       "       [ 2.96837984,  0.93486432,  2.97518037,  5.05897008, -0.23217375,\n",
       "         2.97211292,  8.18894642,  7.08716709,  6.04655271],\n",
       "       [ 6.06135166,  0.93795652,  1.84320315,  6.1379051 , -0.16716529,\n",
       "         6.11152866,  5.01676441,  5.03175719,  5.0266986 ],\n",
       "       [ 5.06056447,  0.91616568,  1.88575319,  6.1055872 , -0.19223839,\n",
       "         7.09898615,  6.05554698,  2.99199941,  6.07763531],\n",
       "       [ 0.93290096,  1.95745194,  3.98193766,  5.03361923, -0.24636243,\n",
       "         2.97232943,  8.2152489 ,  7.12291546,  6.02995885],\n",
       "       [ 2.85463119,  0.80819865,  8.25173422,  3.98916399, -0.26995757,\n",
       "         1.75828179,  7.28613325,  5.17982759,  6.14198691],\n",
       "       [ 4.01550446,  0.71668019,  7.20958491,  4.05302676, -0.23817679,\n",
       "         1.8241974 ,  4.9974448 ,  5.08884054,  8.33289773],\n",
       "       [ 4.03076599,  0.8551162 ,  1.92346097,  5.06413006, -0.22489003,\n",
       "         3.01731669,  8.10840158,  6.08584281,  7.13985572],\n",
       "       [ 4.06789744,  0.63762921,  8.5       ,  6.2191065 , -0.25239867,\n",
       "         1.7093563 ,  2.78794143,  7.32446481,  5.00600298],\n",
       "       [ 8.07999037,  0.92767464,  1.86036279,  6.12085879, -0.17843115,\n",
       "         6.09846735,  4.03367288,  5.01224078,  4.04516354],\n",
       "       [ 5.05912763,  0.91208961,  1.89420425,  6.11714966, -0.1763432 ,\n",
       "         7.09432137,  4.02350578,  5.01666564,  6.05927926],\n",
       "       [ 4.052758  ,  0.90660055,  1.89788746,  7.12409569, -0.18885242,\n",
       "         7.09901183,  5.03325277,  3.0013407 ,  7.07390541],\n",
       "       [ 7.07825183,  0.9128016 ,  1.85094092,  6.12156527, -0.17238293,\n",
       "         6.11038902,  5.03427192,  5.0246012 ,  4.03956117],\n",
       "       [ 7.07129992,  0.91948695,  1.87312106,  6.11041203, -0.18203166,\n",
       "         8.11404404,  5.03295367,  3.00535318,  4.05536082],\n",
       "       [ 7.11085562,  0.85422187,  2.95621265,  5.05230176, -0.18930928,\n",
       "         8.14565423,  2.99292417,  2.99849503,  6.07864396],\n",
       "       [ 6.07044062,  0.92399476,  1.87534993,  6.11148532, -0.18759937,\n",
       "         7.09037117,  4.03841659,  2.9933774 ,  7.08416359],\n",
       "       [ 6.06793154,  0.9130689 ,  1.86920649,  6.11848678, -0.18543595,\n",
       "         7.10361993,  4.03699535,  2.99799926,  7.07812769],\n",
       "       [ 5.0655678 ,  0.9155205 ,  1.8803662 ,  6.10948417, -0.1873156 ,\n",
       "         7.09786365,  5.03792331,  2.99354374,  7.08704623],\n",
       "       [ 2.96256414,  0.94813136,  1.93781782,  5.0131892 , -0.21124478,\n",
       "         7.07428356,  8.2297377 ,  3.99329738,  6.05222361],\n",
       "       [ 4.01555433,  0.87024623,  4.99759911,  5.02597031, -0.2138964 ,\n",
       "         1.97538787,  3.99799243,  8.22972697,  7.10141916],\n",
       "       [ 0.90234484,  5.0562677 ,  1.9589764 ,  2.96575319, -0.23497568,\n",
       "         8.23154762,  7.11352898,  3.96912687,  6.03743007],\n",
       "       [ 3.99365117,  0.89742006,  1.9577586 ,  8.22972078, -0.21416551,\n",
       "         5.0365625 ,  7.05777808,  2.99393194,  6.04734238],\n",
       "       [ 1.92725528,  6.05394781,  0.92779015,  5.02160575, -0.23280278,\n",
       "         2.97208632,  7.11331419,  3.9869243 ,  8.22987898],\n",
       "       [ 1.98333841,  3.99956374,  0.88363079,  5.02067882, -0.21193004,\n",
       "         6.05054314,  8.22971992,  2.98954189,  7.05491333],\n",
       "       [ 5.05227246,  0.84082121,  2.98429169,  4.00993402, -0.21174309,\n",
       "         1.96972169,  7.05732199,  6.06764723,  8.2297328 ],\n",
       "       [ 6.05278991,  0.90558191,  1.94631275,  6.05635326, -0.20649819,\n",
       "         8.22972023,  4.00336905,  2.97546213,  6.03690893],\n",
       "       [ 8.22977894,  0.90653406,  1.86883199,  5.08500072, -0.17703706,\n",
       "         6.13890537,  2.92682877,  3.93998963,  7.08116758],\n",
       "       [ 7.06138309,  0.90156902,  1.90926298,  6.05337154, -0.18147697,\n",
       "         8.22972504,  5.02788559,  2.96416909,  4.03411062],\n",
       "       [ 5.03255177,  0.87061677,  6.02564306,  3.01030634, -0.23391247,\n",
       "         1.98131446,  8.23056337,  5.03725898,  6.04565773],\n",
       "       [ 1.87560729,  8.22975051,  5.03793076,  2.99026836, -0.25405889,\n",
       "         0.78245663,  7.25702939,  4.01850968,  6.06250628],\n",
       "       [ 2.99170214,  0.85822743,  3.99668128,  8.22974939, -0.21093193,\n",
       "         1.97765987,  5.01168045,  6.06134933,  7.08388204],\n",
       "       [ 0.88809115,  8.22970007,  2.97855386,  4.00531191, -0.24612145,\n",
       "         1.94155232,  7.12617366,  5.0408908 ,  6.03584768],\n",
       "       [ 5.02141934,  8.22973986,  0.81403238,  4.05957747, -0.18731533,\n",
       "         6.10000885,  2.95964198,  1.90621426,  7.0966812 ],\n",
       "       [ 2.97990371,  0.94150483,  1.97678976,  7.02759468, -0.22893624,\n",
       "         6.03478881,  8.23135349,  4.0113527 ,  5.02564826],\n",
       "       [ 7.19530398,  0.84022964,  1.90724907,  3.94735659, -0.21506332,\n",
       "         4.9838403 ,  2.95856541,  6.09976984,  8.28274849],\n",
       "       [ 4.00857393,  0.91815612,  2.96848295,  5.01638999, -0.22621427,\n",
       "         1.94272968,  8.23020576,  6.07151199,  7.07016385],\n",
       "       [ 1.9218561 ,  7.10046425,  0.91418447,  5.03325228, -0.22140536,\n",
       "         4.02827596,  6.06029189,  2.93335297,  8.22972746],\n",
       "       [ 0.90697122,  2.94388235,  5.01906169,  4.02888587, -0.24965128,\n",
       "         1.90103886,  8.25952869,  7.11441549,  6.07586712],\n",
       "       [ 2.9477763 ,  0.93901129,  2.97525057,  5.00727771, -0.22818164,\n",
       "         2.96246323,  7.16278842,  8.22974823,  6.00386588],\n",
       "       [ 6.05013828,  4.00629287,  0.88178287,  5.01638702, -0.20715718,\n",
       "         8.22970351,  7.07290053,  2.98097143,  1.96898067],\n",
       "       [ 0.88774566,  2.93422819,  5.01739815,  4.03921656, -0.25421175,\n",
       "         1.87717063,  7.18967392,  6.07868587,  8.23009277],\n",
       "       [ 1.9533127 ,  3.98766373,  0.9293067 ,  8.22972182, -0.22148349,\n",
       "         5.04296545,  6.06197196,  2.95977375,  7.05676739],\n",
       "       [ 2.96875234,  0.91314755,  1.93024005,  5.02888604, -0.23248428,\n",
       "         4.00065728,  7.13514297,  8.22974702,  6.02591105],\n",
       "       [ 3.96879543,  0.71694324,  7.21774074,  2.97892645, -0.24377956,\n",
       "         1.86137871,  6.07655743,  5.13554449,  8.28789306],\n",
       "       [ 8.22972604,  0.9180929 ,  2.98544603,  6.06569082, -0.20479733,\n",
       "         7.06656682,  5.01291937,  1.93854896,  3.98780637],\n",
       "       [ 5.03555565,  0.83673518,  8.23083077,  2.9883834 , -0.23894681,\n",
       "         1.97735065,  5.03944134,  5.02697497,  7.10367484],\n",
       "       [ 7.22843119,  0.84412087,  1.9240325 ,  3.94556068, -0.20903302,\n",
       "         5.03029599,  2.86325376,  6.03483743,  8.3385006 ],\n",
       "       [ 7.07272659,  0.8942448 ,  1.92692462,  5.03406086, -0.20211783,\n",
       "         6.01884281,  4.02250131,  3.00306533,  8.22975151],\n",
       "       [ 4.99753084,  0.92581243,  1.91258153,  5.06017789, -0.19779774,\n",
       "         7.10412076,  3.97326772,  8.22971277,  3.99459381],\n",
       "       [ 3.00315981,  0.90807991,  1.91518717,  5.04168146, -0.2181396 ,\n",
       "         4.01678447,  8.22970215,  7.05494294,  6.0486017 ],\n",
       "       [ 5.02318671,  0.85632294,  4.02282823,  2.99060851, -0.2323331 ,\n",
       "         1.96016729,  8.22986434,  7.11423355,  6.03512154],\n",
       "       [ 5.07531001,  0.79865465,  5.04255051,  5.08331315, -0.23404083,\n",
       "         1.87572801,  3.00188019,  7.10763435,  8.24896995],\n",
       "       [ 6.08353077,  0.89410044,  1.89659083,  5.05580232, -0.18282435,\n",
       "         7.14154199,  3.96174551,  2.91982764,  8.22968487],\n",
       "       [ 8.24942033,  0.85193797,  3.94919328,  4.97065239, -0.20936537,\n",
       "         2.86653619,  1.91138501,  6.07495012,  7.33529008],\n",
       "       [ 8.22974607,  1.93268487,  3.96825248,  2.96230995, -0.25958721,\n",
       "         0.88366822,  7.19893776,  5.04931333,  6.03467452],\n",
       "       [ 8.22970862,  0.86697223,  2.96342302,  1.95018602, -0.23903721,\n",
       "         4.00323847,  7.15054879,  5.0393572 ,  6.03560286],\n",
       "       [ 1.94995971,  0.92778471,  3.96859202,  5.01674704, -0.22723844,\n",
       "         2.96370765,  7.10903103,  8.22973658,  6.0616797 ],\n",
       "       [ 0.91704456,  1.95075667,  3.97912758,  5.01689837, -0.23675584,\n",
       "         2.96526338,  7.11930338,  6.05858197,  8.22977993],\n",
       "       [ 1.93740229,  0.89895537,  3.98529052,  5.04397211, -0.23967441,\n",
       "         2.97378028,  8.24437033,  7.09362287,  6.06228065],\n",
       "       [ 6.09493163,  0.86486851,  3.96691553,  1.94974901, -0.22358554,\n",
       "         2.97583587,  7.11695596,  8.23025116,  5.02407788],\n",
       "       [ 8.22982154,  0.85680822,  3.99265287,  1.95251354, -0.23026874,\n",
       "         5.05114981,  7.13061498,  6.04407659,  2.97263117],\n",
       "       [ 4.02088882,  0.86676585,  1.98191103,  5.0217889 , -0.22907674,\n",
       "         8.23131661,  7.09283312,  4.00164821,  5.01192421],\n",
       "       [ 2.92541323,  1.94676687,  2.94236687,  5.02707038, -0.23667896,\n",
       "         1.94211388,  7.18707575,  8.23074779,  6.03512419],\n",
       "       [ 4.00424591, -0.12861516,  0.80243553,  5.05806309,  8.22975485,\n",
       "         7.09138818,  4.99215858,  1.95386365,  3.99670537],\n",
       "       [ 7.15986553,  0.83743447,  3.98096649,  1.90698827, -0.21005025,\n",
       "         3.99332945,  3.96166638,  8.23018227,  6.13961739],\n",
       "       [ 2.99985221,  0.91547067,  1.91187001,  5.0207749 , -0.21434561,\n",
       "         8.2297379 ,  7.08277082,  4.00780964,  6.04605947],\n",
       "       [ 1.89544384,  1.90474096,  8.23562252,  4.03743948, -0.26166649,\n",
       "         1.889119  ,  7.15299307,  5.06348172,  6.08282589],\n",
       "       [ 8.22979002,  0.90601172,  1.86848369,  6.0866819 , -0.1775418 ,\n",
       "         7.14742048,  2.95238448,  4.98975941,  3.99701008],\n",
       "       [ 1.94735003,  0.93765741,  3.98288416,  8.23184213, -0.23003199,\n",
       "         2.96074296,  7.11948491,  5.01375484,  6.03631555],\n",
       "       [ 6.13542849,  0.80971715,  7.10030098,  4.99583152, -0.1927491 ,\n",
       "         2.9668263 ,  1.83717039,  4.05548246,  8.2919918 ],\n",
       "       [ 4.04302238,  0.78725369,  8.22970493,  5.06399801, -0.2216082 ,\n",
       "         2.93532871,  2.95125679,  5.04125664,  7.16978704],\n",
       "       [ 7.11736976,  0.85495255,  1.94812607,  5.0201548 , -0.21364284,\n",
       "         6.03466834,  4.01065985,  2.99654563,  8.23116583],\n",
       "       [ 1.93800375,  0.94529471,  4.0135391 ,  6.05376957, -0.24583445,\n",
       "         2.94220314,  8.24300054,  6.06665761,  6.04336604],\n",
       "       [ 2.99628581,  0.91787979,  1.96136839,  6.03073347, -0.22322744,\n",
       "         5.01669631,  8.23015516,  7.04856931,  4.02153919],\n",
       "       [ 5.0790594 ,  0.87629892,  7.09306705,  5.06819533, -0.23573574,\n",
       "         2.94758559,  1.86886734,  5.04039303,  8.26226906],\n",
       "       [ 7.08965619,  0.88446323,  1.96071185,  5.02846202, -0.208225  ,\n",
       "         6.03196774,  3.97715969,  3.00563176,  8.23017252],\n",
       "       [ 1.96350606,  0.92360191,  8.2297504 ,  6.03568934, -0.21978892,\n",
       "         4.01353576,  7.08573534,  2.9706787 ,  4.99729141],\n",
       "       [ 1.95772943,  0.91303619,  2.98274524,  5.0335037 , -0.23095637,\n",
       "         4.0086643 ,  8.23161809,  7.05669306,  6.04696637],\n",
       "       [ 4.01325429,  0.77695734,  6.0674865 ,  3.9835654 , -0.23168918,\n",
       "         2.93236488,  3.01232   ,  7.13202333,  8.31371744],\n",
       "       [ 6.13183706,  0.81675151,  5.07833974,  4.00053952, -0.22092221,\n",
       "         2.87367556,  1.89559125,  7.14419787,  8.27998969],\n",
       "       [ 2.96837984,  0.93486432,  2.97518037,  5.05897008, -0.23217375,\n",
       "         2.97211292,  8.18894642,  7.08716709,  6.04655271],\n",
       "       [ 6.06135166,  0.93795652,  1.84320315,  6.1379051 , -0.16716529,\n",
       "         6.11152866,  5.01676441,  5.03175719,  5.0266986 ],\n",
       "       [ 5.06056447,  0.91616568,  1.88575319,  6.1055872 , -0.19223839,\n",
       "         7.09898615,  6.05554698,  2.99199941,  6.07763531],\n",
       "       [ 0.93290096,  1.95745194,  3.98193766,  5.03361923, -0.24636243,\n",
       "         2.97232943,  8.2152489 ,  7.12291546,  6.02995885],\n",
       "       [ 2.85463119,  0.80819865,  8.25173422,  3.98916399, -0.26995757,\n",
       "         1.75828179,  7.28613325,  5.17982759,  6.14198691],\n",
       "       [ 4.01550446,  0.71668019,  7.20958491,  4.05302676, -0.23817679,\n",
       "         1.8241974 ,  4.9974448 ,  5.08884054,  8.33289773],\n",
       "       [ 4.03076599,  0.8551162 ,  1.92346097,  5.06413006, -0.22489003,\n",
       "         3.01731669,  8.10840158,  6.08584281,  7.13985572],\n",
       "       [ 4.06789744,  0.63762921,  8.5       ,  6.2191065 , -0.25239867,\n",
       "         1.7093563 ,  2.78794143,  7.32446481,  5.00600298],\n",
       "       [ 8.07999037,  0.92767464,  1.86036279,  6.12085879, -0.17843115,\n",
       "         6.09846735,  4.03367288,  5.01224078,  4.04516354],\n",
       "       [ 5.05912763,  0.91208961,  1.89420425,  6.11714966, -0.1763432 ,\n",
       "         7.09432137,  4.02350578,  5.01666564,  6.05927926],\n",
       "       [ 4.052758  ,  0.90660055,  1.89788746,  7.12409569, -0.18885242,\n",
       "         7.09901183,  5.03325277,  3.0013407 ,  7.07390541],\n",
       "       [ 7.07825183,  0.9128016 ,  1.85094092,  6.12156527, -0.17238293,\n",
       "         6.11038902,  5.03427192,  5.0246012 ,  4.03956117],\n",
       "       [ 7.07129992,  0.91948695,  1.87312106,  6.11041203, -0.18203166,\n",
       "         8.11404404,  5.03295367,  3.00535318,  4.05536082],\n",
       "       [ 7.11085562,  0.85422187,  2.95621265,  5.05230176, -0.18930928,\n",
       "         8.14565423,  2.99292417,  2.99849503,  6.07864396],\n",
       "       [ 6.07044062,  0.92399476,  1.87534993,  6.11148532, -0.18759937,\n",
       "         7.09037117,  4.03841659,  2.9933774 ,  7.08416359],\n",
       "       [ 6.06793154,  0.9130689 ,  1.86920649,  6.11848678, -0.18543595,\n",
       "         7.10361993,  4.03699535,  2.99799926,  7.07812769],\n",
       "       [ 5.0655678 ,  0.9155205 ,  1.8803662 ,  6.10948417, -0.1873156 ,\n",
       "         7.09786365,  5.03792331,  2.99354374,  7.08704623]])"
      ]
     },
     "execution_count": 24,
     "metadata": {},
     "output_type": "execute_result"
    }
   ],
   "source": [
    "dfYPred"
   ]
  },
  {
   "cell_type": "code",
   "execution_count": 25,
   "metadata": {},
   "outputs": [],
   "source": [
    "pers=['Conscientiousness','Extrovert','Agreeable','Emphathetic','Nov Seekng','Perfectionist','Rigid','Impulsive','Psychopath','Obsessive']"
   ]
  },
  {
   "cell_type": "code",
   "execution_count": 26,
   "metadata": {},
   "outputs": [
    {
     "ename": "ValueError",
     "evalue": "Length mismatch: Expected axis has 9 elements, new values have 10 elements",
     "output_type": "error",
     "traceback": [
      "\u001b[0;31m---------------------------------------------------------------------------\u001b[0m",
      "\u001b[0;31mValueError\u001b[0m                                Traceback (most recent call last)",
      "\u001b[0;32m<ipython-input-26-ac3452b47d9f>\u001b[0m in \u001b[0;36m<module>\u001b[0;34m()\u001b[0m\n\u001b[0;32m----> 1\u001b[0;31m \u001b[0mdf\u001b[0m\u001b[0;34m.\u001b[0m\u001b[0mcolumns\u001b[0m\u001b[0;34m=\u001b[0m\u001b[0mpers\u001b[0m\u001b[0;34m\u001b[0m\u001b[0m\n\u001b[0m",
      "\u001b[0;32m/Library/Frameworks/Python.framework/Versions/3.6/lib/python3.6/site-packages/pandas/core/generic.py\u001b[0m in \u001b[0;36m__setattr__\u001b[0;34m(self, name, value)\u001b[0m\n\u001b[1;32m   4383\u001b[0m         \u001b[0;32mtry\u001b[0m\u001b[0;34m:\u001b[0m\u001b[0;34m\u001b[0m\u001b[0m\n\u001b[1;32m   4384\u001b[0m             \u001b[0mobject\u001b[0m\u001b[0;34m.\u001b[0m\u001b[0m__getattribute__\u001b[0m\u001b[0;34m(\u001b[0m\u001b[0mself\u001b[0m\u001b[0;34m,\u001b[0m \u001b[0mname\u001b[0m\u001b[0;34m)\u001b[0m\u001b[0;34m\u001b[0m\u001b[0m\n\u001b[0;32m-> 4385\u001b[0;31m             \u001b[0;32mreturn\u001b[0m \u001b[0mobject\u001b[0m\u001b[0;34m.\u001b[0m\u001b[0m__setattr__\u001b[0m\u001b[0;34m(\u001b[0m\u001b[0mself\u001b[0m\u001b[0;34m,\u001b[0m \u001b[0mname\u001b[0m\u001b[0;34m,\u001b[0m \u001b[0mvalue\u001b[0m\u001b[0;34m)\u001b[0m\u001b[0;34m\u001b[0m\u001b[0m\n\u001b[0m\u001b[1;32m   4386\u001b[0m         \u001b[0;32mexcept\u001b[0m \u001b[0mAttributeError\u001b[0m\u001b[0;34m:\u001b[0m\u001b[0;34m\u001b[0m\u001b[0m\n\u001b[1;32m   4387\u001b[0m             \u001b[0;32mpass\u001b[0m\u001b[0;34m\u001b[0m\u001b[0m\n",
      "\u001b[0;32mpandas/_libs/properties.pyx\u001b[0m in \u001b[0;36mpandas._libs.properties.AxisProperty.__set__\u001b[0;34m()\u001b[0m\n",
      "\u001b[0;32m/Library/Frameworks/Python.framework/Versions/3.6/lib/python3.6/site-packages/pandas/core/generic.py\u001b[0m in \u001b[0;36m_set_axis\u001b[0;34m(self, axis, labels)\u001b[0m\n\u001b[1;32m    643\u001b[0m \u001b[0;34m\u001b[0m\u001b[0m\n\u001b[1;32m    644\u001b[0m     \u001b[0;32mdef\u001b[0m \u001b[0m_set_axis\u001b[0m\u001b[0;34m(\u001b[0m\u001b[0mself\u001b[0m\u001b[0;34m,\u001b[0m \u001b[0maxis\u001b[0m\u001b[0;34m,\u001b[0m \u001b[0mlabels\u001b[0m\u001b[0;34m)\u001b[0m\u001b[0;34m:\u001b[0m\u001b[0;34m\u001b[0m\u001b[0m\n\u001b[0;32m--> 645\u001b[0;31m         \u001b[0mself\u001b[0m\u001b[0;34m.\u001b[0m\u001b[0m_data\u001b[0m\u001b[0;34m.\u001b[0m\u001b[0mset_axis\u001b[0m\u001b[0;34m(\u001b[0m\u001b[0maxis\u001b[0m\u001b[0;34m,\u001b[0m \u001b[0mlabels\u001b[0m\u001b[0;34m)\u001b[0m\u001b[0;34m\u001b[0m\u001b[0m\n\u001b[0m\u001b[1;32m    646\u001b[0m         \u001b[0mself\u001b[0m\u001b[0;34m.\u001b[0m\u001b[0m_clear_item_cache\u001b[0m\u001b[0;34m(\u001b[0m\u001b[0;34m)\u001b[0m\u001b[0;34m\u001b[0m\u001b[0m\n\u001b[1;32m    647\u001b[0m \u001b[0;34m\u001b[0m\u001b[0m\n",
      "\u001b[0;32m/Library/Frameworks/Python.framework/Versions/3.6/lib/python3.6/site-packages/pandas/core/internals.py\u001b[0m in \u001b[0;36mset_axis\u001b[0;34m(self, axis, new_labels)\u001b[0m\n\u001b[1;32m   3321\u001b[0m             raise ValueError(\n\u001b[1;32m   3322\u001b[0m                 \u001b[0;34m'Length mismatch: Expected axis has {old} elements, new '\u001b[0m\u001b[0;34m\u001b[0m\u001b[0m\n\u001b[0;32m-> 3323\u001b[0;31m                 'values have {new} elements'.format(old=old_len, new=new_len))\n\u001b[0m\u001b[1;32m   3324\u001b[0m \u001b[0;34m\u001b[0m\u001b[0m\n\u001b[1;32m   3325\u001b[0m         \u001b[0mself\u001b[0m\u001b[0;34m.\u001b[0m\u001b[0maxes\u001b[0m\u001b[0;34m[\u001b[0m\u001b[0maxis\u001b[0m\u001b[0;34m]\u001b[0m \u001b[0;34m=\u001b[0m \u001b[0mnew_labels\u001b[0m\u001b[0;34m\u001b[0m\u001b[0m\n",
      "\u001b[0;31mValueError\u001b[0m: Length mismatch: Expected axis has 9 elements, new values have 10 elements"
     ]
    }
   ],
   "source": [
    "df.columns=pers"
   ]
  },
  {
   "cell_type": "code",
   "execution_count": 27,
   "metadata": {},
   "outputs": [],
   "source": [
    "df['dom_pers']=df.idxmax(axis=1)"
   ]
  },
  {
   "cell_type": "code",
   "execution_count": 28,
   "metadata": {},
   "outputs": [],
   "source": [
    "df['thres']= np.random.randint(10, 100, df.shape[0])"
   ]
  },
  {
   "cell_type": "code",
   "execution_count": 29,
   "metadata": {},
   "outputs": [],
   "source": [
    "df['user_id']=user_id[n:]"
   ]
  },
  {
   "cell_type": "code",
   "execution_count": 30,
   "metadata": {},
   "outputs": [
    {
     "data": {
      "text/html": [
       "<div>\n",
       "<style scoped>\n",
       "    .dataframe tbody tr th:only-of-type {\n",
       "        vertical-align: middle;\n",
       "    }\n",
       "\n",
       "    .dataframe tbody tr th {\n",
       "        vertical-align: top;\n",
       "    }\n",
       "\n",
       "    .dataframe thead th {\n",
       "        text-align: right;\n",
       "    }\n",
       "</style>\n",
       "<table border=\"1\" class=\"dataframe\">\n",
       "  <thead>\n",
       "    <tr style=\"text-align: right;\">\n",
       "      <th></th>\n",
       "      <th>0</th>\n",
       "      <th>1</th>\n",
       "      <th>2</th>\n",
       "      <th>3</th>\n",
       "      <th>4</th>\n",
       "      <th>5</th>\n",
       "      <th>6</th>\n",
       "      <th>7</th>\n",
       "      <th>8</th>\n",
       "      <th>dom_pers</th>\n",
       "      <th>thres</th>\n",
       "      <th>user_id</th>\n",
       "    </tr>\n",
       "  </thead>\n",
       "  <tbody>\n",
       "    <tr>\n",
       "      <th>0</th>\n",
       "      <td>4.013254</td>\n",
       "      <td>0.776957</td>\n",
       "      <td>6.067487</td>\n",
       "      <td>3.983565</td>\n",
       "      <td>-0.231689</td>\n",
       "      <td>2.932365</td>\n",
       "      <td>3.012320</td>\n",
       "      <td>7.132023</td>\n",
       "      <td>8.313717</td>\n",
       "      <td>8</td>\n",
       "      <td>83</td>\n",
       "      <td>1414166594</td>\n",
       "    </tr>\n",
       "    <tr>\n",
       "      <th>1</th>\n",
       "      <td>6.131837</td>\n",
       "      <td>0.816752</td>\n",
       "      <td>5.078340</td>\n",
       "      <td>4.000540</td>\n",
       "      <td>-0.220922</td>\n",
       "      <td>2.873676</td>\n",
       "      <td>1.895591</td>\n",
       "      <td>7.144198</td>\n",
       "      <td>8.279990</td>\n",
       "      <td>8</td>\n",
       "      <td>14</td>\n",
       "      <td>1438909568</td>\n",
       "    </tr>\n",
       "    <tr>\n",
       "      <th>2</th>\n",
       "      <td>2.968380</td>\n",
       "      <td>0.934864</td>\n",
       "      <td>2.975180</td>\n",
       "      <td>5.058970</td>\n",
       "      <td>-0.232174</td>\n",
       "      <td>2.972113</td>\n",
       "      <td>8.188946</td>\n",
       "      <td>7.087167</td>\n",
       "      <td>6.046553</td>\n",
       "      <td>6</td>\n",
       "      <td>83</td>\n",
       "      <td>1516255956</td>\n",
       "    </tr>\n",
       "    <tr>\n",
       "      <th>3</th>\n",
       "      <td>6.061352</td>\n",
       "      <td>0.937957</td>\n",
       "      <td>1.843203</td>\n",
       "      <td>6.137905</td>\n",
       "      <td>-0.167165</td>\n",
       "      <td>6.111529</td>\n",
       "      <td>5.016764</td>\n",
       "      <td>5.031757</td>\n",
       "      <td>5.026699</td>\n",
       "      <td>3</td>\n",
       "      <td>17</td>\n",
       "      <td>1530948307</td>\n",
       "    </tr>\n",
       "    <tr>\n",
       "      <th>4</th>\n",
       "      <td>5.060564</td>\n",
       "      <td>0.916166</td>\n",
       "      <td>1.885753</td>\n",
       "      <td>6.105587</td>\n",
       "      <td>-0.192238</td>\n",
       "      <td>7.098986</td>\n",
       "      <td>6.055547</td>\n",
       "      <td>2.991999</td>\n",
       "      <td>6.077635</td>\n",
       "      <td>5</td>\n",
       "      <td>56</td>\n",
       "      <td>1534856329</td>\n",
       "    </tr>\n",
       "    <tr>\n",
       "      <th>5</th>\n",
       "      <td>0.932901</td>\n",
       "      <td>1.957452</td>\n",
       "      <td>3.981938</td>\n",
       "      <td>5.033619</td>\n",
       "      <td>-0.246362</td>\n",
       "      <td>2.972329</td>\n",
       "      <td>8.215249</td>\n",
       "      <td>7.122915</td>\n",
       "      <td>6.029959</td>\n",
       "      <td>6</td>\n",
       "      <td>13</td>\n",
       "      <td>1537350764</td>\n",
       "    </tr>\n",
       "    <tr>\n",
       "      <th>6</th>\n",
       "      <td>2.854631</td>\n",
       "      <td>0.808199</td>\n",
       "      <td>8.251734</td>\n",
       "      <td>3.989164</td>\n",
       "      <td>-0.269958</td>\n",
       "      <td>1.758282</td>\n",
       "      <td>7.286133</td>\n",
       "      <td>5.179828</td>\n",
       "      <td>6.141987</td>\n",
       "      <td>2</td>\n",
       "      <td>74</td>\n",
       "      <td>1537352881</td>\n",
       "    </tr>\n",
       "    <tr>\n",
       "      <th>7</th>\n",
       "      <td>4.015504</td>\n",
       "      <td>0.716680</td>\n",
       "      <td>7.209585</td>\n",
       "      <td>4.053027</td>\n",
       "      <td>-0.238177</td>\n",
       "      <td>1.824197</td>\n",
       "      <td>4.997445</td>\n",
       "      <td>5.088841</td>\n",
       "      <td>8.332898</td>\n",
       "      <td>8</td>\n",
       "      <td>14</td>\n",
       "      <td>1601780840</td>\n",
       "    </tr>\n",
       "    <tr>\n",
       "      <th>8</th>\n",
       "      <td>4.030766</td>\n",
       "      <td>0.855116</td>\n",
       "      <td>1.923461</td>\n",
       "      <td>5.064130</td>\n",
       "      <td>-0.224890</td>\n",
       "      <td>3.017317</td>\n",
       "      <td>8.108402</td>\n",
       "      <td>6.085843</td>\n",
       "      <td>7.139856</td>\n",
       "      <td>6</td>\n",
       "      <td>81</td>\n",
       "      <td>1607302296</td>\n",
       "    </tr>\n",
       "    <tr>\n",
       "      <th>9</th>\n",
       "      <td>4.067897</td>\n",
       "      <td>0.637629</td>\n",
       "      <td>8.500000</td>\n",
       "      <td>6.219106</td>\n",
       "      <td>-0.252399</td>\n",
       "      <td>1.709356</td>\n",
       "      <td>2.787941</td>\n",
       "      <td>7.324465</td>\n",
       "      <td>5.006003</td>\n",
       "      <td>2</td>\n",
       "      <td>88</td>\n",
       "      <td>1620048930</td>\n",
       "    </tr>\n",
       "  </tbody>\n",
       "</table>\n",
       "</div>"
      ],
      "text/plain": [
       "          0         1         2         3         4         5         6  \\\n",
       "0  4.013254  0.776957  6.067487  3.983565 -0.231689  2.932365  3.012320   \n",
       "1  6.131837  0.816752  5.078340  4.000540 -0.220922  2.873676  1.895591   \n",
       "2  2.968380  0.934864  2.975180  5.058970 -0.232174  2.972113  8.188946   \n",
       "3  6.061352  0.937957  1.843203  6.137905 -0.167165  6.111529  5.016764   \n",
       "4  5.060564  0.916166  1.885753  6.105587 -0.192238  7.098986  6.055547   \n",
       "5  0.932901  1.957452  3.981938  5.033619 -0.246362  2.972329  8.215249   \n",
       "6  2.854631  0.808199  8.251734  3.989164 -0.269958  1.758282  7.286133   \n",
       "7  4.015504  0.716680  7.209585  4.053027 -0.238177  1.824197  4.997445   \n",
       "8  4.030766  0.855116  1.923461  5.064130 -0.224890  3.017317  8.108402   \n",
       "9  4.067897  0.637629  8.500000  6.219106 -0.252399  1.709356  2.787941   \n",
       "\n",
       "          7         8  dom_pers  thres     user_id  \n",
       "0  7.132023  8.313717         8     83  1414166594  \n",
       "1  7.144198  8.279990         8     14  1438909568  \n",
       "2  7.087167  6.046553         6     83  1516255956  \n",
       "3  5.031757  5.026699         3     17  1530948307  \n",
       "4  2.991999  6.077635         5     56  1534856329  \n",
       "5  7.122915  6.029959         6     13  1537350764  \n",
       "6  5.179828  6.141987         2     74  1537352881  \n",
       "7  5.088841  8.332898         8     14  1601780840  \n",
       "8  6.085843  7.139856         6     81  1607302296  \n",
       "9  7.324465  5.006003         2     88  1620048930  "
      ]
     },
     "execution_count": 30,
     "metadata": {},
     "output_type": "execute_result"
    }
   ],
   "source": [
    "df.set_index('user_id')\n",
    "df.head(10)"
   ]
  },
  {
   "cell_type": "code",
   "execution_count": 31,
   "metadata": {},
   "outputs": [],
   "source": [
    "def cosine_sim(df):\n",
    "    for index, row in df.iterrows():\n",
    "        print((row[1:9]))"
   ]
  },
  {
   "cell_type": "code",
   "execution_count": 32,
   "metadata": {},
   "outputs": [],
   "source": [
    "df1=pd.DataFrame(data=sk.cosine_similarity(YPred,YPred))"
   ]
  },
  {
   "cell_type": "code",
   "execution_count": 33,
   "metadata": {},
   "outputs": [],
   "source": [
    "df1=df1*100"
   ]
  },
  {
   "cell_type": "code",
   "execution_count": 34,
   "metadata": {},
   "outputs": [],
   "source": [
    "df1.columns=user_id[n:]\n",
    "df1['user_id']=user_id[n:]"
   ]
  },
  {
   "cell_type": "code",
   "execution_count": 35,
   "metadata": {},
   "outputs": [],
   "source": [
    "#df_1=df1.loc[df1['user_id'] == '1516255956']"
   ]
  },
  {
   "cell_type": "code",
   "execution_count": 36,
   "metadata": {},
   "outputs": [],
   "source": [
    "#userid or input\n",
    "userid='1414166594'"
   ]
  },
  {
   "cell_type": "code",
   "execution_count": 37,
   "metadata": {},
   "outputs": [
    {
     "data": {
      "image/png": "[encoded data removed]",
      "text/plain": [
       "<Figure size 432x288 with 1 Axes>"
      ]
     },
     "metadata": {},
     "output_type": "display_data"
    }
   ],
   "source": [
    "df_d=df.loc[df['user_id'] == userid]\n",
    "\n",
    "labels = tuple(pers)#'Extrovert', 'Agreeable', 'Empathetic','Novelty Seeking','Perfectionist','Rigid','Impulsive','Psychopath','Obsessive'\n",
    "sizes = df_d.iloc[0,:10]\n",
    "\n",
    "explode = (0.2,0,0.2,0,0.2,0,0.2,0,0.2,0)\n",
    "\n",
    "fig1, ax1 = plt.subplots()\n",
    "ax1.pie(sizes, explode=explode, labels=labels, autopct='%1.1f%%',\n",
    "        shadow=True, startangle=90)\n",
    "ax1.axis('equal')  # Equal aspect ratio ensures that pie is drawn as a circle.\n",
    "\n",
    "plt.show()"
   ]
  },
  {
   "cell_type": "code",
   "execution_count": 38,
   "metadata": {},
   "outputs": [],
   "source": [
    "df_d=df1.loc[df1['user_id'] == userid]\n",
    "df_2=df_d[(df_d<100) & (df_d>df.loc[df['user_id'] == userid]['thres'].iloc[0])]\n",
    "df_2=df_2[df_2!='NaN']\n",
    "df_2.dropna(axis=1,inplace=True)\n",
    "df_2=df_2.iloc[:,:-1]\n",
    "df_2=df_2.transpose()\n",
    "df_2.columns=[1]\n",
    "df_2=df_2.sort_values(1)"
   ]
  },
  {
   "cell_type": "code",
   "execution_count": 39,
   "metadata": {},
   "outputs": [
    {
     "data": {
      "text/html": [
       "<div>\n",
       "<style scoped>\n",
       "    .dataframe tbody tr th:only-of-type {\n",
       "        vertical-align: middle;\n",
       "    }\n",
       "\n",
       "    .dataframe tbody tr th {\n",
       "        vertical-align: top;\n",
       "    }\n",
       "\n",
       "    .dataframe thead th {\n",
       "        text-align: right;\n",
       "    }\n",
       "</style>\n",
       "<table border=\"1\" class=\"dataframe\">\n",
       "  <thead>\n",
       "    <tr style=\"text-align: right;\">\n",
       "      <th></th>\n",
       "      <th>1</th>\n",
       "    </tr>\n",
       "  </thead>\n",
       "  <tbody>\n",
       "    <tr>\n",
       "      <th>1238463202</th>\n",
       "      <td>83.001573</td>\n",
       "    </tr>\n",
       "    <tr>\n",
       "      <th>1632372234</th>\n",
       "      <td>83.001573</td>\n",
       "    </tr>\n",
       "    <tr>\n",
       "      <th>1478136910</th>\n",
       "      <td>83.165662</td>\n",
       "    </tr>\n",
       "    <tr>\n",
       "      <th>1649744274</th>\n",
       "      <td>83.165662</td>\n",
       "    </tr>\n",
       "    <tr>\n",
       "      <th>1152987452</th>\n",
       "      <td>83.721876</td>\n",
       "    </tr>\n",
       "  </tbody>\n",
       "</table>\n",
       "</div>"
      ],
      "text/plain": [
       "                    1\n",
       "1238463202  83.001573\n",
       "1632372234  83.001573\n",
       "1478136910  83.165662\n",
       "1649744274  83.165662\n",
       "1152987452  83.721876"
      ]
     },
     "execution_count": 39,
     "metadata": {},
     "output_type": "execute_result"
    }
   ],
   "source": [
    "df_2.head()"
   ]
  },
  {
   "cell_type": "code",
   "execution_count": 40,
   "metadata": {},
   "outputs": [],
   "source": [
    "from IPython import display\n",
    "def plotSimilarityGraph(userid2):\n",
    "    \n",
    "    user_personality_df=df.loc[(df['user_id'] == userid) | (df['user_id']==userid2 )]\n",
    "\n",
    "    del user_personality_df['thres']\n",
    "    del user_personality_df['dom_pers']\n",
    "\n",
    "    df_melt = user_personality_df.melt('user_id', var_name='Personalities',  value_name='Magnitudes')\n",
    "    df_melt\n",
    "\n",
    "    barG=sns.factorplot(data=df_melt, kind='bar',hue='user_id',x='Personalities',y='Magnitudes',palette='Set1')\n",
    "    barG.set_xticklabels(rotation=90)\n",
    "    display.display(barG)"
   ]
  },
  {
   "cell_type": "code",
   "execution_count": 41,
   "metadata": {
    "scrolled": true
   },
   "outputs": [
    {
     "data": {
      "text/plain": [
       "<seaborn.axisgrid.FacetGrid at 0x11a530b38>"
      ]
     },
     "metadata": {},
     "output_type": "display_data"
    },
    {
     "name": "stdout",
     "output_type": "stream",
     "text": [
      "Do you want another suggestion? (y/n): n\n"
     ]
    },
    {
     "data": {
      "image/png": "[encoded data removed]",
      "text/plain": [
       "<Figure size 387.375x288 with 1 Axes>"
      ]
     },
     "metadata": {},
     "output_type": "display_data"
    }
   ],
   "source": [
    "for index,row in df_2.itertuples():\n",
    "    plotSimilarityGraph(index)\n",
    "    inp=input(\"Do you want another suggestion? (y/n): \")\n",
    "    if(inp=='n'):\n",
    "        break;"
   ]
  },
  {
   "cell_type": "code",
   "execution_count": null,
   "metadata": {},
   "outputs": [],
   "source": []
  }
 ],
 "metadata": {
  "colab": {
   "default_view": {},
   "name": "Personality Predictor and Visualizer-Copy3.ipynb",
   "provenance": [],
   "version": "0.3.2",
   "views": {}
  },
  "kernelspec": {
   "display_name": "Python 3",
   "language": "python",
   "name": "python3"
  },
  "language_info": {
   "codemirror_mode": {
    "name": "ipython",
    "version": 3
   },
   "file_extension": ".py",
   "mimetype": "text/x-python",
   "name": "python",
   "nbconvert_exporter": "python",
   "pygments_lexer": "ipython3",
   "version": "3.6.5"
  }
 },
 "nbformat": 4,
 "nbformat_minor": 1
}
